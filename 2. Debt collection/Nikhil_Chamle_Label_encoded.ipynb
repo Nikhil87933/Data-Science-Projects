{
 "cells": [
  {
   "cell_type": "code",
   "execution_count": 1,
   "id": "e6b79dcd",
   "metadata": {},
   "outputs": [],
   "source": [
    "import pandas as pd\n",
    "import numpy as np\n",
    "import matplotlib.pyplot as plt\n",
    "import seaborn as sns\n",
    "import warnings\n",
    "warnings.filterwarnings('ignore')\n",
    "from tabulate import tabulate\n",
    "%matplotlib inline\n",
    "import os\n",
    "from sklearn.preprocessing import OrdinalEncoder\n",
    "from sklearn.model_selection import train_test_split\n",
    "from sklearn.model_selection import KFold\n",
    "from sklearn.model_selection import cross_val_score\n",
    "from sklearn.metrics import (\n",
    "    classification_report,\n",
    "    confusion_matrix,\n",
    "    accuracy_score,\n",
    "    recall_score,\n",
    "    precision_score,\n",
    "    roc_auc_score,\n",
    ")\n",
    "from sklearn.linear_model import LogisticRegression\n",
    "from sklearn.tree import DecisionTreeClassifier\n",
    "from sklearn.neighbors import KNeighborsClassifier\n",
    "from sklearn.discriminant_analysis import LinearDiscriminantAnalysis\n",
    "from sklearn.naive_bayes import GaussianNB\n",
    "from sklearn.ensemble import RandomForestClassifier"
   ]
  },
  {
   "cell_type": "code",
   "execution_count": 2,
   "id": "4b13b90d",
   "metadata": {},
   "outputs": [],
   "source": [
    "data = pd.read_csv('C:/Users/Nikhil_Chamle/Desktop/Debt_collection_project/DataFile1.csv')"
   ]
  },
  {
   "cell_type": "code",
   "execution_count": 3,
   "id": "47f1c312",
   "metadata": {},
   "outputs": [],
   "source": [
    "df = data.copy()"
   ]
  },
  {
   "cell_type": "code",
   "execution_count": 4,
   "id": "b159ce80",
   "metadata": {},
   "outputs": [],
   "source": [
    "pd.set_option('display.max_columns', 50)"
   ]
  },
  {
   "cell_type": "code",
   "execution_count": 5,
   "id": "2f50988c",
   "metadata": {},
   "outputs": [],
   "source": [
    "# Dropping columns\n",
    "\n",
    "df = df.drop(['Unnamed: 22', 'Unnamed: 23', 'Unnamed: 24', 'Unnamed: 25'], axis = 1 )"
   ]
  },
  {
   "cell_type": "code",
   "execution_count": 6,
   "id": "010c2f5d",
   "metadata": {},
   "outputs": [
    {
     "data": {
      "text/plain": [
       "EntityID                       0.000000\n",
       "OriginalCreditor[Redacted]     0.000000\n",
       "AccountID                      0.000000\n",
       "CurrentBalance                 0.000000\n",
       "DebtLoadPrincipal              0.000000\n",
       "BalanceAtDebtLoad              0.000000\n",
       "PurchasePrice                  0.662364\n",
       "ProductOrDebtType              0.000000\n",
       "CollectionStatus               0.000000\n",
       "IsStatBarred                   0.000000\n",
       "ClosureReason                 97.778177\n",
       "InBankruptcy                   0.000000\n",
       "AccountInsolvencyType         99.929876\n",
       "CustomerInsolvencyType        97.900955\n",
       "IsLegal                        0.000000\n",
       "LastPaymentAmount             74.416556\n",
       "LastPaymentMethod             74.416556\n",
       "NumLiableParties               0.030018\n",
       "CustomerAge                    7.254019\n",
       "NumPhones                      0.000000\n",
       "NumEmails                      0.000000\n",
       "NumAddresses                   0.000000\n",
       "dtype: float64"
      ]
     },
     "execution_count": 6,
     "metadata": {},
     "output_type": "execute_result"
    }
   ],
   "source": [
    "# checking null values\n",
    "\n",
    "df.isnull().sum()/len(df) * 100"
   ]
  },
  {
   "cell_type": "code",
   "execution_count": 7,
   "id": "258cf262",
   "metadata": {},
   "outputs": [
    {
     "data": {
      "text/plain": [
       "0"
      ]
     },
     "execution_count": 7,
     "metadata": {},
     "output_type": "execute_result"
    }
   ],
   "source": [
    "# checking duplicates\n",
    "\n",
    "df.duplicated().sum()"
   ]
  },
  {
   "cell_type": "code",
   "execution_count": 8,
   "id": "9b846d89",
   "metadata": {},
   "outputs": [],
   "source": [
    "#dropping columns with max null values\n",
    "\n",
    "df = df.drop(['ClosureReason', 'AccountInsolvencyType', 'CustomerInsolvencyType', 'LastPaymentMethod', 'LastPaymentAmount'], axis = 1 )"
   ]
  },
  {
   "cell_type": "code",
   "execution_count": 9,
   "id": "669b82e1",
   "metadata": {},
   "outputs": [],
   "source": [
    "# Converting columns to float\n",
    "columns_to_convert = ['CurrentBalance', 'DebtLoadPrincipal', 'BalanceAtDebtLoad']"
   ]
  },
  {
   "cell_type": "code",
   "execution_count": 10,
   "id": "23a67dce",
   "metadata": {},
   "outputs": [],
   "source": [
    "for column in columns_to_convert:\n",
    "    df[column] = df[column].str.replace(',', '').astype(float)"
   ]
  },
  {
   "cell_type": "code",
   "execution_count": 11,
   "id": "68765bb3",
   "metadata": {},
   "outputs": [
    {
     "data": {
      "text/plain": [
       "EntityID                      0.000000\n",
       "OriginalCreditor[Redacted]    0.000000\n",
       "AccountID                     0.000000\n",
       "CurrentBalance                0.000000\n",
       "DebtLoadPrincipal             0.000000\n",
       "BalanceAtDebtLoad             0.000000\n",
       "PurchasePrice                 0.662364\n",
       "ProductOrDebtType             0.000000\n",
       "CollectionStatus              0.000000\n",
       "IsStatBarred                  0.000000\n",
       "InBankruptcy                  0.000000\n",
       "IsLegal                       0.000000\n",
       "NumLiableParties              0.030018\n",
       "CustomerAge                   7.254019\n",
       "NumPhones                     0.000000\n",
       "NumEmails                     0.000000\n",
       "NumAddresses                  0.000000\n",
       "dtype: float64"
      ]
     },
     "execution_count": 11,
     "metadata": {},
     "output_type": "execute_result"
    }
   ],
   "source": [
    "df.isnull().sum()/len(df) * 100"
   ]
  },
  {
   "cell_type": "code",
   "execution_count": 12,
   "id": "903b4f10",
   "metadata": {},
   "outputs": [
    {
     "data": {
      "text/html": [
       "<div>\n",
       "<style scoped>\n",
       "    .dataframe tbody tr th:only-of-type {\n",
       "        vertical-align: middle;\n",
       "    }\n",
       "\n",
       "    .dataframe tbody tr th {\n",
       "        vertical-align: top;\n",
       "    }\n",
       "\n",
       "    .dataframe thead th {\n",
       "        text-align: right;\n",
       "    }\n",
       "</style>\n",
       "<table border=\"1\" class=\"dataframe\">\n",
       "  <thead>\n",
       "    <tr style=\"text-align: right;\">\n",
       "      <th></th>\n",
       "      <th>EntityID</th>\n",
       "      <th>AccountID</th>\n",
       "      <th>CurrentBalance</th>\n",
       "      <th>DebtLoadPrincipal</th>\n",
       "      <th>BalanceAtDebtLoad</th>\n",
       "      <th>PurchasePrice</th>\n",
       "      <th>NumLiableParties</th>\n",
       "      <th>CustomerAge</th>\n",
       "      <th>NumPhones</th>\n",
       "      <th>NumEmails</th>\n",
       "      <th>NumAddresses</th>\n",
       "    </tr>\n",
       "  </thead>\n",
       "  <tbody>\n",
       "    <tr>\n",
       "      <th>count</th>\n",
       "      <td>4.064230e+05</td>\n",
       "      <td>4.064230e+05</td>\n",
       "      <td>406423.000000</td>\n",
       "      <td>406423.000000</td>\n",
       "      <td>406423.000000</td>\n",
       "      <td>403731.000000</td>\n",
       "      <td>406301.000000</td>\n",
       "      <td>376941.000000</td>\n",
       "      <td>406423.000000</td>\n",
       "      <td>406423.000000</td>\n",
       "      <td>406423.000000</td>\n",
       "    </tr>\n",
       "    <tr>\n",
       "      <th>mean</th>\n",
       "      <td>3.970443e+07</td>\n",
       "      <td>3.954380e+08</td>\n",
       "      <td>1301.866266</td>\n",
       "      <td>1539.010928</td>\n",
       "      <td>1600.933847</td>\n",
       "      <td>5.618606</td>\n",
       "      <td>1.017145</td>\n",
       "      <td>45.728061</td>\n",
       "      <td>0.435652</td>\n",
       "      <td>0.208113</td>\n",
       "      <td>0.847354</td>\n",
       "    </tr>\n",
       "    <tr>\n",
       "      <th>std</th>\n",
       "      <td>4.698070e+07</td>\n",
       "      <td>4.654769e+08</td>\n",
       "      <td>4030.513710</td>\n",
       "      <td>4416.229311</td>\n",
       "      <td>4531.889319</td>\n",
       "      <td>5.441934</td>\n",
       "      <td>0.132866</td>\n",
       "      <td>12.950395</td>\n",
       "      <td>0.714852</td>\n",
       "      <td>0.434321</td>\n",
       "      <td>0.459690</td>\n",
       "    </tr>\n",
       "    <tr>\n",
       "      <th>min</th>\n",
       "      <td>1.600000e+02</td>\n",
       "      <td>3.677000e+03</td>\n",
       "      <td>-7717.200000</td>\n",
       "      <td>0.000000</td>\n",
       "      <td>0.000000</td>\n",
       "      <td>0.190000</td>\n",
       "      <td>1.000000</td>\n",
       "      <td>-41.000000</td>\n",
       "      <td>0.000000</td>\n",
       "      <td>0.000000</td>\n",
       "      <td>0.000000</td>\n",
       "    </tr>\n",
       "    <tr>\n",
       "      <th>25%</th>\n",
       "      <td>3.010600e+06</td>\n",
       "      <td>3.023088e+07</td>\n",
       "      <td>85.330000</td>\n",
       "      <td>246.970000</td>\n",
       "      <td>249.875000</td>\n",
       "      <td>3.070000</td>\n",
       "      <td>1.000000</td>\n",
       "      <td>36.000000</td>\n",
       "      <td>0.000000</td>\n",
       "      <td>0.000000</td>\n",
       "      <td>1.000000</td>\n",
       "    </tr>\n",
       "    <tr>\n",
       "      <th>50%</th>\n",
       "      <td>3.010949e+06</td>\n",
       "      <td>3.045075e+07</td>\n",
       "      <td>457.510000</td>\n",
       "      <td>619.000000</td>\n",
       "      <td>630.740000</td>\n",
       "      <td>4.220000</td>\n",
       "      <td>1.000000</td>\n",
       "      <td>44.000000</td>\n",
       "      <td>0.000000</td>\n",
       "      <td>0.000000</td>\n",
       "      <td>1.000000</td>\n",
       "    </tr>\n",
       "    <tr>\n",
       "      <th>75%</th>\n",
       "      <td>9.990131e+07</td>\n",
       "      <td>9.901891e+08</td>\n",
       "      <td>1159.365000</td>\n",
       "      <td>1393.780000</td>\n",
       "      <td>1433.755000</td>\n",
       "      <td>6.590000</td>\n",
       "      <td>1.000000</td>\n",
       "      <td>54.000000</td>\n",
       "      <td>1.000000</td>\n",
       "      <td>0.000000</td>\n",
       "      <td>1.000000</td>\n",
       "    </tr>\n",
       "    <tr>\n",
       "      <th>max</th>\n",
       "      <td>9.990159e+07</td>\n",
       "      <td>9.904958e+08</td>\n",
       "      <td>441681.520000</td>\n",
       "      <td>844343.000000</td>\n",
       "      <td>844343.000000</td>\n",
       "      <td>52.180000</td>\n",
       "      <td>4.000000</td>\n",
       "      <td>133.000000</td>\n",
       "      <td>8.000000</td>\n",
       "      <td>5.000000</td>\n",
       "      <td>7.000000</td>\n",
       "    </tr>\n",
       "  </tbody>\n",
       "</table>\n",
       "</div>"
      ],
      "text/plain": [
       "           EntityID     AccountID  CurrentBalance  DebtLoadPrincipal  \\\n",
       "count  4.064230e+05  4.064230e+05   406423.000000      406423.000000   \n",
       "mean   3.970443e+07  3.954380e+08     1301.866266        1539.010928   \n",
       "std    4.698070e+07  4.654769e+08     4030.513710        4416.229311   \n",
       "min    1.600000e+02  3.677000e+03    -7717.200000           0.000000   \n",
       "25%    3.010600e+06  3.023088e+07       85.330000         246.970000   \n",
       "50%    3.010949e+06  3.045075e+07      457.510000         619.000000   \n",
       "75%    9.990131e+07  9.901891e+08     1159.365000        1393.780000   \n",
       "max    9.990159e+07  9.904958e+08   441681.520000      844343.000000   \n",
       "\n",
       "       BalanceAtDebtLoad  PurchasePrice  NumLiableParties    CustomerAge  \\\n",
       "count      406423.000000  403731.000000     406301.000000  376941.000000   \n",
       "mean         1600.933847       5.618606          1.017145      45.728061   \n",
       "std          4531.889319       5.441934          0.132866      12.950395   \n",
       "min             0.000000       0.190000          1.000000     -41.000000   \n",
       "25%           249.875000       3.070000          1.000000      36.000000   \n",
       "50%           630.740000       4.220000          1.000000      44.000000   \n",
       "75%          1433.755000       6.590000          1.000000      54.000000   \n",
       "max        844343.000000      52.180000          4.000000     133.000000   \n",
       "\n",
       "           NumPhones      NumEmails   NumAddresses  \n",
       "count  406423.000000  406423.000000  406423.000000  \n",
       "mean        0.435652       0.208113       0.847354  \n",
       "std         0.714852       0.434321       0.459690  \n",
       "min         0.000000       0.000000       0.000000  \n",
       "25%         0.000000       0.000000       1.000000  \n",
       "50%         0.000000       0.000000       1.000000  \n",
       "75%         1.000000       0.000000       1.000000  \n",
       "max         8.000000       5.000000       7.000000  "
      ]
     },
     "execution_count": 12,
     "metadata": {},
     "output_type": "execute_result"
    }
   ],
   "source": [
    "df.describe()"
   ]
  },
  {
   "cell_type": "code",
   "execution_count": 13,
   "id": "3151e6d8",
   "metadata": {},
   "outputs": [],
   "source": [
    "# converting negative age to positive\n",
    "\n",
    "df['CustomerAge'] = df['CustomerAge'].abs()"
   ]
  },
  {
   "cell_type": "code",
   "execution_count": 14,
   "id": "c9d78144",
   "metadata": {},
   "outputs": [],
   "source": [
    "# imputing null values in age column\n",
    "\n",
    "mean_age = df['CustomerAge'].mean()\n",
    "df['CustomerAge'].fillna(mean_age, inplace=True)"
   ]
  },
  {
   "cell_type": "code",
   "execution_count": 15,
   "id": "c3432a2f",
   "metadata": {},
   "outputs": [],
   "source": [
    "# dropping null rows\n",
    "\n",
    "df.dropna(inplace=True)"
   ]
  },
  {
   "cell_type": "code",
   "execution_count": 16,
   "id": "266ee289",
   "metadata": {},
   "outputs": [],
   "source": [
    "# dropping insignificant columns for our analysis\n",
    "\n",
    "df = df.drop(['EntityID', 'AccountID', 'OriginalCreditor[Redacted]'], axis = 1 )"
   ]
  },
  {
   "cell_type": "code",
   "execution_count": 17,
   "id": "aa700a6b",
   "metadata": {},
   "outputs": [],
   "source": [
    "# seperating columns on basis of dataypes and putting in a list\n",
    "\n",
    "obj1 = []\n",
    "int1 = []\n",
    "flo1 = []\n",
    "\n",
    "for i in df.columns:\n",
    "    if df[i].dtypes == 'object':\n",
    "        obj1.append(i)\n",
    "    elif df[i].dtypes == 'int64':\n",
    "        int1.append(i)\n",
    "    elif df[i].dtypes == 'float':\n",
    "        flo1.append(i)"
   ]
  },
  {
   "cell_type": "code",
   "execution_count": 18,
   "id": "15305307",
   "metadata": {},
   "outputs": [],
   "source": [
    "# renaming column\n",
    "\n",
    "df.rename(columns={'CurrentBalance': 'Debt_Pending'}, inplace=True)"
   ]
  },
  {
   "cell_type": "code",
   "execution_count": 19,
   "id": "29142228",
   "metadata": {},
   "outputs": [],
   "source": [
    "#dropping columns\n",
    "\n",
    "df = df.drop(['Debt_Pending', 'DebtLoadPrincipal', 'InBankruptcy', 'IsLegal'], axis = 1 )"
   ]
  },
  {
   "cell_type": "code",
   "execution_count": 20,
   "id": "4f65f41a",
   "metadata": {},
   "outputs": [],
   "source": [
    "# mapping values for statue barred column\n",
    "\n",
    "df['IsStatBarred'] = df['IsStatBarred'].map({'Y': 1, 'N': 0})"
   ]
  },
  {
   "cell_type": "code",
   "execution_count": 21,
   "id": "a778d756",
   "metadata": {},
   "outputs": [],
   "source": [
    "categorical_features = ['ProductOrDebtType', 'CollectionStatus']"
   ]
  },
  {
   "cell_type": "code",
   "execution_count": 22,
   "id": "b9fa7d75",
   "metadata": {},
   "outputs": [],
   "source": [
    "from sklearn.preprocessing import LabelEncoder\n",
    "label_encoder = LabelEncoder()\n",
    "\n",
    "for col in categorical_features:\n",
    "    df[col] = label_encoder.fit_transform(df[col])"
   ]
  },
  {
   "cell_type": "code",
   "execution_count": 23,
   "id": "9a794cad",
   "metadata": {},
   "outputs": [],
   "source": [
    "y = df['IsStatBarred'].astype(int)  # Target variable\n",
    "X = df.drop(columns=['IsStatBarred']).astype(int)  # Features"
   ]
  },
  {
   "cell_type": "code",
   "execution_count": 24,
   "id": "b187a903",
   "metadata": {},
   "outputs": [],
   "source": [
    "X_train, X_test, y_train, y_test = train_test_split(X,y,test_size =0.2)"
   ]
  },
  {
   "cell_type": "code",
   "execution_count": 25,
   "id": "3c9fcaf3",
   "metadata": {},
   "outputs": [],
   "source": [
    "# standardization \n",
    "\n",
    "from sklearn.preprocessing import StandardScaler\n",
    "\n",
    "standard_scaler = StandardScaler()\n",
    "\n",
    "X_train = standard_scaler.fit_transform(X_train)\n",
    "X_test = standard_scaler.transform(X_test)\n",
    "\n",
    "X_standardized = standard_scaler.fit_transform(X)"
   ]
  },
  {
   "cell_type": "code",
   "execution_count": 26,
   "id": "7043f4f5",
   "metadata": {
    "scrolled": false
   },
   "outputs": [
    {
     "name": "stdout",
     "output_type": "stream",
     "text": [
      "LR Accuracy: 0.810396 (0.001189)\n",
      "Training Accuracy for LR: 0.8104574960977181\n",
      "\n",
      "Test Accuracy for LR: 0.810351448781636\n",
      "Confusion Matrix for LR:\n",
      "[[13772 10308]\n",
      " [ 5001 51642]]\n",
      "\n",
      "Classification Report for LR:\n",
      "              precision    recall  f1-score   support\n",
      "\n",
      "           0       0.73      0.57      0.64     24080\n",
      "           1       0.83      0.91      0.87     56643\n",
      "\n",
      "    accuracy                           0.81     80723\n",
      "   macro avg       0.78      0.74      0.76     80723\n",
      "weighted avg       0.80      0.81      0.80     80723\n",
      "\n",
      "\n",
      "Recall for LR: 0.9117101848419046\n",
      "\n",
      "Precision for LR: 0.8336077481840194\n",
      "\n",
      "ROC AUC for LR: 0.741818547570454\n",
      "----------------------------------------------------------------------------\n",
      "LDA Accuracy: 0.813161 (0.001223)\n",
      "Training Accuracy for LDA: 0.8132200639230941\n",
      "\n",
      "Test Accuracy for LDA: 0.8122715954560658\n",
      "Confusion Matrix for LDA:\n",
      "[[12867 11213]\n",
      " [ 3941 52702]]\n",
      "\n",
      "Classification Report for LDA:\n",
      "              precision    recall  f1-score   support\n",
      "\n",
      "           0       0.77      0.53      0.63     24080\n",
      "           1       0.82      0.93      0.87     56643\n",
      "\n",
      "    accuracy                           0.81     80723\n",
      "   macro avg       0.80      0.73      0.75     80723\n",
      "weighted avg       0.81      0.81      0.80     80723\n",
      "\n",
      "\n",
      "Recall for LDA: 0.930423882915806\n",
      "\n",
      "Precision for LDA: 0.8245638738950168\n",
      "\n",
      "ROC AUC for LDA: 0.732383868368202\n",
      "----------------------------------------------------------------------------\n",
      "KNN Accuracy: 0.944897 (0.001274)\n",
      "Training Accuracy for KNN: 0.9595184708010208\n",
      "\n",
      "Test Accuracy for KNN: 0.9467933550537022\n",
      "Confusion Matrix for KNN:\n",
      "[[21710  2370]\n",
      " [ 1925 54718]]\n",
      "\n",
      "Classification Report for KNN:\n",
      "              precision    recall  f1-score   support\n",
      "\n",
      "           0       0.92      0.90      0.91     24080\n",
      "           1       0.96      0.97      0.96     56643\n",
      "\n",
      "    accuracy                           0.95     80723\n",
      "   macro avg       0.94      0.93      0.94     80723\n",
      "weighted avg       0.95      0.95      0.95     80723\n",
      "\n",
      "\n",
      "Recall for KNN: 0.9660152181205092\n",
      "\n",
      "Precision for KNN: 0.9584851457399103\n",
      "\n",
      "ROC AUC for KNN: 0.9337966456051051\n",
      "----------------------------------------------------------------------------\n",
      "NB Accuracy: 0.807466 (0.001990)\n",
      "Training Accuracy for NB: 0.8075183964718416\n",
      "\n",
      "Test Accuracy for NB: 0.8066969760786888\n",
      "Confusion Matrix for NB:\n",
      "[[14642  9438]\n",
      " [ 6166 50477]]\n",
      "\n",
      "Classification Report for NB:\n",
      "              precision    recall  f1-score   support\n",
      "\n",
      "           0       0.70      0.61      0.65     24080\n",
      "           1       0.84      0.89      0.87     56643\n",
      "\n",
      "    accuracy                           0.81     80723\n",
      "   macro avg       0.77      0.75      0.76     80723\n",
      "weighted avg       0.80      0.81      0.80     80723\n",
      "\n",
      "\n",
      "Recall for NB: 0.8911427713927581\n",
      "\n",
      "Precision for NB: 0.8424768421931069\n",
      "\n",
      "ROC AUC for NB: 0.7495996248990368\n",
      "----------------------------------------------------------------------------\n",
      "RF Accuracy: 0.955074 (0.000831)\n",
      "Training Accuracy for RF: 0.999467307549367\n",
      "\n",
      "Test Accuracy for RF: 0.9549942395599768\n",
      "Confusion Matrix for RF:\n",
      "[[22141  1939]\n",
      " [ 1694 54949]]\n",
      "\n",
      "Classification Report for RF:\n",
      "              precision    recall  f1-score   support\n",
      "\n",
      "           0       0.93      0.92      0.92     24080\n",
      "           1       0.97      0.97      0.97     56643\n",
      "\n",
      "    accuracy                           0.95     80723\n",
      "   macro avg       0.95      0.94      0.95     80723\n",
      "weighted avg       0.95      0.95      0.95     80723\n",
      "\n",
      "\n",
      "Recall for RF: 0.970093391946048\n",
      "\n",
      "Precision for RF: 0.9659154830544228\n",
      "\n",
      "ROC AUC for RF: 0.9447850680660472\n",
      "----------------------------------------------------------------------------\n"
     ]
    }
   ],
   "source": [
    "#model training and prediction\n",
    "\n",
    "models = []\n",
    "models.append((\"LR\", LogisticRegression()))\n",
    "models.append((\"LDA\", LinearDiscriminantAnalysis()))\n",
    "models.append((\"KNN\", KNeighborsClassifier()))\n",
    "models.append((\"NB\", GaussianNB()))\n",
    "models.append((\"RF\", RandomForestClassifier()))\n",
    "\n",
    "results = []\n",
    "names = []\n",
    "\n",
    "for name, model in models:\n",
    "    kfold = KFold(n_splits=10)\n",
    "    cv_results = cross_val_score(model, X_train, y_train, cv=kfold, scoring=\"accuracy\")\n",
    "    results.append(cv_results)\n",
    "    names.append(name)\n",
    "    msg = \"%s Accuracy: %f (%f)\" % (name, cv_results.mean(), cv_results.std())\n",
    "    print(msg)\n",
    "\n",
    "    # Calculating training accuracy\n",
    "    model.fit(X_train, y_train)\n",
    "    y_train_pred = model.predict(X_train)\n",
    "    train_accuracy = accuracy_score(y_train, y_train_pred)\n",
    "    print(f\"Training Accuracy for {name}: {train_accuracy}\")\n",
    "    print()\n",
    "\n",
    "    # Calculating test accuracy\n",
    "    y_pred = model.predict(X_test)\n",
    "    test_accuracy = accuracy_score(y_test, y_pred)\n",
    "    print(f\"Test Accuracy for {name}: {test_accuracy}\")\n",
    "\n",
    "    # Calculating additional metrics\n",
    "    print(f\"Confusion Matrix for {name}:\\n{confusion_matrix(y_test, y_pred)}\")\n",
    "    print()\n",
    "    print(f\"Classification Report for {name}:\\n{classification_report(y_test, y_pred)}\")\n",
    "    print()\n",
    "    print(f\"Recall for {name}: {recall_score(y_test, y_pred)}\")\n",
    "    print()\n",
    "    print(f\"Precision for {name}: {precision_score(y_test, y_pred)}\")\n",
    "    print()\n",
    "    print(f\"ROC AUC for {name}: {roc_auc_score(y_test, y_pred)}\")\n",
    "    print(\"----------------------------------------------------------------------------\")"
   ]
  },
  {
   "cell_type": "code",
   "execution_count": null,
   "id": "b20cb05f",
   "metadata": {},
   "outputs": [],
   "source": []
  }
 ],
 "metadata": {
  "kernelspec": {
   "display_name": "Python 3 (ipykernel)",
   "language": "python",
   "name": "python3"
  },
  "language_info": {
   "codemirror_mode": {
    "name": "ipython",
    "version": 3
   },
   "file_extension": ".py",
   "mimetype": "text/x-python",
   "name": "python",
   "nbconvert_exporter": "python",
   "pygments_lexer": "ipython3",
   "version": "3.10.9"
  }
 },
 "nbformat": 4,
 "nbformat_minor": 5
}
