{
 "cells": [
  {
   "cell_type": "code",
   "execution_count": 1,
   "id": "0ed4317b",
   "metadata": {},
   "outputs": [],
   "source": [
    "import pandas as pd\n",
    "import numpy as np\n",
    "import matplotlib.pyplot as plt\n",
    "import seaborn as sns\n",
    "import warnings\n",
    "warnings.filterwarnings('ignore')\n",
    "from tabulate import tabulate\n",
    "%matplotlib inline\n",
    "import os\n",
    "\n",
    "data = pd.read_csv('C:/Users/Nikhil_Chamle/Desktop/Debt_collection_project/DataFile1.csv')\n",
    "\n",
    "df = data.copy()\n",
    "\n",
    "pd.set_option('display.max_columns', 50)\n",
    "\n",
    "df\n",
    "\n",
    "# Dropping columns\n",
    "\n",
    "df = df.drop(['Unnamed: 22', 'Unnamed: 23', 'Unnamed: 24', 'Unnamed: 25'], axis = 1 )\n",
    "\n",
    "# checking null values\n",
    "\n",
    "df.isnull().sum()/len(df) * 100\n",
    "\n",
    "# checking duplicates\n",
    "\n",
    "df.duplicated().sum()\n",
    "\n",
    "#dropping columns with max null values\n",
    "\n",
    "df = df.drop(['ClosureReason', 'AccountInsolvencyType', 'CustomerInsolvencyType', 'LastPaymentMethod', 'LastPaymentAmount'], axis = 1 )\n",
    "\n",
    "# Converting columns to float\n",
    "columns_to_convert = ['CurrentBalance', 'DebtLoadPrincipal', 'BalanceAtDebtLoad']\n",
    " \n",
    "for column in columns_to_convert:\n",
    "    df[column] = df[column].str.replace(',', '').astype(float)\n",
    "\n",
    "# converting negative age to positive\n",
    "\n",
    "df['CustomerAge'] = df['CustomerAge'].abs()\n",
    "\n",
    "# imputing null values in age column\n",
    "\n",
    "mean_age = df['CustomerAge'].mean()\n",
    "df['CustomerAge'].fillna(mean_age, inplace=True)\n",
    "\n",
    "# dropping null rows\n",
    "\n",
    "df.dropna(inplace=True)\n",
    "\n",
    "# dropping insignificant columns for our analysis\n",
    "\n",
    "df = df.drop(['EntityID', 'AccountID', 'OriginalCreditor[Redacted]'], axis = 1 )\n",
    "\n",
    "# renaming column\n",
    "\n",
    "df.rename(columns={'CurrentBalance': 'Debt_Pending'}, inplace=True)\n",
    "\n",
    "df\n",
    "\n",
    "#dropping columns\n",
    "\n",
    "df = df.drop(['Debt_Pending', 'DebtLoadPrincipal', 'InBankruptcy', 'IsLegal'], axis = 1 )\n",
    "\n",
    "# mapping values for statue barred column\n",
    "\n",
    "df['IsStatBarred'] = df['IsStatBarred'].map({'Y': 1, 'N': 0})\n",
    "\n",
    "df.columns\n",
    "\n",
    "df\n",
    "\n",
    "from catboost import CatBoostClassifier, Pool\n",
    "\n",
    "# Define a list of all categorical feature names\n",
    "categorical_features = ['ProductOrDebtType', 'CollectionStatus']\n",
    "\n",
    "# Ensure that all specified columns are correctly labeled as categorical\n",
    "for feature in categorical_features:\n",
    "    df[feature] = df[feature].astype('category')"
   ]
  },
  {
   "cell_type": "code",
   "execution_count": 3,
   "id": "f5309e70",
   "metadata": {},
   "outputs": [
    {
     "data": {
      "text/plain": [
       "Index(['BalanceAtDebtLoad', 'PurchasePrice', 'ProductOrDebtType',\n",
       "       'CollectionStatus', 'IsStatBarred', 'NumLiableParties', 'CustomerAge',\n",
       "       'NumPhones', 'NumEmails', 'NumAddresses'],\n",
       "      dtype='object')"
      ]
     },
     "execution_count": 3,
     "metadata": {},
     "output_type": "execute_result"
    }
   ],
   "source": [
    "df.columns"
   ]
  },
  {
   "cell_type": "code",
   "execution_count": null,
   "id": "747adccf",
   "metadata": {},
   "outputs": [],
   "source": []
  }
 ],
 "metadata": {
  "kernelspec": {
   "display_name": "Python 3 (ipykernel)",
   "language": "python",
   "name": "python3"
  },
  "language_info": {
   "codemirror_mode": {
    "name": "ipython",
    "version": 3
   },
   "file_extension": ".py",
   "mimetype": "text/x-python",
   "name": "python",
   "nbconvert_exporter": "python",
   "pygments_lexer": "ipython3",
   "version": "3.10.9"
  }
 },
 "nbformat": 4,
 "nbformat_minor": 5
}
