{
 "cells": [
  {
   "cell_type": "code",
   "execution_count": 1,
   "id": "626f3dfd",
   "metadata": {},
   "outputs": [],
   "source": [
    "import pandas as pd\n",
    "import numpy as np\n",
    "import matplotlib.pyplot as plt\n",
    "import seaborn as sns\n",
    "import warnings\n",
    "warnings.filterwarnings('ignore')\n",
    "from tabulate import tabulate\n",
    "%matplotlib inline\n",
    "import os\n",
    "from catboost import CatBoostClassifier, Pool\n",
    "from sklearn.model_selection import train_test_split\n",
    "from sklearn.model_selection import KFold\n",
    "from sklearn.model_selection import cross_val_score\n",
    "from sklearn.metrics import (\n",
    "    classification_report,\n",
    "    confusion_matrix,\n",
    "    accuracy_score,\n",
    "    recall_score,\n",
    "    precision_score,\n",
    "    roc_auc_score,\n",
    ")\n",
    "from sklearn.preprocessing import StandardScaler\n",
    "from sklearn.model_selection import GridSearchCV\n",
    "from sklearn.metrics import make_scorer\n",
    "from sklearn.ensemble import RandomForestClassifier"
   ]
  },
  {
   "cell_type": "code",
   "execution_count": 2,
   "id": "78f92648",
   "metadata": {},
   "outputs": [
    {
     "name": "stdout",
     "output_type": "stream",
     "text": [
      "Accuracy: 0.97\n",
      "Classification Report:\n",
      "              precision    recall  f1-score   support\n",
      "\n",
      "           0       0.96      1.00      0.98       489\n",
      "           1       0.98      0.82      0.89        99\n",
      "\n",
      "    accuracy                           0.97       588\n",
      "   macro avg       0.97      0.91      0.93       588\n",
      "weighted avg       0.97      0.97      0.96       588\n",
      "\n"
     ]
    }
   ],
   "source": [
    "data = pd.read_csv('C:/Users/Nikhil_Chamle/Desktop/Practice projects/HR attrition/HR_Employee_Attrition_Data.csv')\n",
    "#model training and predictiondata = pd.read_csv('C:/Users/Nikhil_Chamle/Desktop/HR/HR_Employee_Attrition_Data.csv')\n",
    "\n",
    "df = data.copy()\n",
    "\n",
    "df.loc[df['BusinessTravel'] == 'Travel_Rarely','cat_BusinessTravel'] = 1\n",
    "df.loc[df['BusinessTravel'] == 'Travel_Frequently','cat_BusinessTravel'] = 2\n",
    "df.loc[df['BusinessTravel'] == 'Non-Travel','cat_BusinessTravel'] = 3\n",
    "\n",
    "df.loc[df['Department'] == 'Sales', 'ord_Department'] = 1\n",
    "df.loc[df['Department'] == 'Research & Development', 'ord_Department'] = 2\n",
    "df.loc[df['Department'] == 'Human Resources', 'ord_Department'] = 3\n",
    "\n",
    "df.drop(columns = ['EmployeeCount', 'Over18','StandardHours', 'EmployeeNumber'], inplace = True)\n",
    "\n",
    "df['Attrition'] = df['Attrition'].map({'Yes': 1, 'No': 0})\n",
    "\n",
    "categorical_features = ['BusinessTravel',\n",
    " 'Department',\n",
    " 'EducationField',\n",
    " 'Gender',\n",
    " 'JobRole',\n",
    " 'MaritalStatus',\n",
    " 'OverTime',\n",
    " 'cat_BusinessTravel',\n",
    " 'ord_Department']\n",
    "\n",
    "from sklearn.preprocessing import LabelEncoder\n",
    "label_encoder = LabelEncoder()\n",
    "\n",
    "for col in categorical_features:\n",
    "    df[col] = label_encoder.fit_transform(df[col])\n",
    "    \n",
    "y = df['Attrition'].astype(int)  # Target variable\n",
    "X = df.drop(columns=['Attrition']).astype(int)  # Features\n",
    "\n",
    "X_train, X_test, y_train, y_test = train_test_split(X, y, test_size=0.2, random_state=42)\n",
    "\n",
    "# Standardize the data\n",
    "\n",
    "standard_scaler = StandardScaler()\n",
    "X_train = standard_scaler.fit_transform(X_train)\n",
    "X_test = standard_scaler.transform(X_test)\n",
    "\n",
    "# Create a Random Forest Classifier\n",
    "random_forest_model = RandomForestClassifier(n_estimators=100, random_state=42)\n",
    "\n",
    "# Train the model\n",
    "random_forest_model.fit(X_train, y_train)\n",
    "\n",
    "# Predictions on the test set\n",
    "y_pred = random_forest_model.predict(X_test)\n",
    "\n",
    "# Evaluate the model\n",
    "accuracy = accuracy_score(y_test, y_pred)\n",
    "print(f\"Accuracy: {accuracy:.2f}\")\n",
    "\n",
    "# Display classification report\n",
    "print(\"Classification Report:\")\n",
    "print(classification_report(y_test, y_pred))"
   ]
  },
  {
   "cell_type": "code",
   "execution_count": 4,
   "id": "95421cd4",
   "metadata": {},
   "outputs": [
    {
     "data": {
      "text/plain": [
       "Index(['Age', 'BusinessTravel', 'DailyRate', 'Department', 'DistanceFromHome',\n",
       "       'Education', 'EducationField', 'EnvironmentSatisfaction', 'Gender',\n",
       "       'HourlyRate', 'JobInvolvement', 'JobLevel', 'JobRole',\n",
       "       'JobSatisfaction', 'MaritalStatus', 'MonthlyIncome', 'MonthlyRate',\n",
       "       'NumCompaniesWorked', 'OverTime', 'PercentSalaryHike',\n",
       "       'PerformanceRating', 'RelationshipSatisfaction', 'StockOptionLevel',\n",
       "       'TotalWorkingYears', 'TrainingTimesLastYear', 'WorkLifeBalance',\n",
       "       'YearsAtCompany', 'YearsInCurrentRole', 'YearsSinceLastPromotion',\n",
       "       'YearsWithCurrManager', 'cat_BusinessTravel', 'ord_Department'],\n",
       "      dtype='object')"
      ]
     },
     "execution_count": 4,
     "metadata": {},
     "output_type": "execute_result"
    }
   ],
   "source": [
    "X.columns"
   ]
  },
  {
   "cell_type": "code",
   "execution_count": 6,
   "id": "4683e29d",
   "metadata": {},
   "outputs": [
    {
     "name": "stdout",
     "output_type": "stream",
     "text": [
      "<class 'pandas.core.frame.DataFrame'>\n",
      "RangeIndex: 2940 entries, 0 to 2939\n",
      "Data columns (total 32 columns):\n",
      " #   Column                    Non-Null Count  Dtype\n",
      "---  ------                    --------------  -----\n",
      " 0   Age                       2940 non-null   int32\n",
      " 1   BusinessTravel            2940 non-null   int32\n",
      " 2   DailyRate                 2940 non-null   int32\n",
      " 3   Department                2940 non-null   int32\n",
      " 4   DistanceFromHome          2940 non-null   int32\n",
      " 5   Education                 2940 non-null   int32\n",
      " 6   EducationField            2940 non-null   int32\n",
      " 7   EnvironmentSatisfaction   2940 non-null   int32\n",
      " 8   Gender                    2940 non-null   int32\n",
      " 9   HourlyRate                2940 non-null   int32\n",
      " 10  JobInvolvement            2940 non-null   int32\n",
      " 11  JobLevel                  2940 non-null   int32\n",
      " 12  JobRole                   2940 non-null   int32\n",
      " 13  JobSatisfaction           2940 non-null   int32\n",
      " 14  MaritalStatus             2940 non-null   int32\n",
      " 15  MonthlyIncome             2940 non-null   int32\n",
      " 16  MonthlyRate               2940 non-null   int32\n",
      " 17  NumCompaniesWorked        2940 non-null   int32\n",
      " 18  OverTime                  2940 non-null   int32\n",
      " 19  PercentSalaryHike         2940 non-null   int32\n",
      " 20  PerformanceRating         2940 non-null   int32\n",
      " 21  RelationshipSatisfaction  2940 non-null   int32\n",
      " 22  StockOptionLevel          2940 non-null   int32\n",
      " 23  TotalWorkingYears         2940 non-null   int32\n",
      " 24  TrainingTimesLastYear     2940 non-null   int32\n",
      " 25  WorkLifeBalance           2940 non-null   int32\n",
      " 26  YearsAtCompany            2940 non-null   int32\n",
      " 27  YearsInCurrentRole        2940 non-null   int32\n",
      " 28  YearsSinceLastPromotion   2940 non-null   int32\n",
      " 29  YearsWithCurrManager      2940 non-null   int32\n",
      " 30  cat_BusinessTravel        2940 non-null   int32\n",
      " 31  ord_Department            2940 non-null   int32\n",
      "dtypes: int32(32)\n",
      "memory usage: 367.6 KB\n"
     ]
    }
   ],
   "source": [
    "X.info()"
   ]
  },
  {
   "cell_type": "code",
   "execution_count": null,
   "id": "8894642f",
   "metadata": {},
   "outputs": [],
   "source": []
  }
 ],
 "metadata": {
  "kernelspec": {
   "display_name": "Python 3 (ipykernel)",
   "language": "python",
   "name": "python3"
  },
  "language_info": {
   "codemirror_mode": {
    "name": "ipython",
    "version": 3
   },
   "file_extension": ".py",
   "mimetype": "text/x-python",
   "name": "python",
   "nbconvert_exporter": "python",
   "pygments_lexer": "ipython3",
   "version": "3.10.9"
  }
 },
 "nbformat": 4,
 "nbformat_minor": 5
}
